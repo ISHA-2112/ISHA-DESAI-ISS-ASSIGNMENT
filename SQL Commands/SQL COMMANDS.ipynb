{
 "cells": [
  {
   "cell_type": "code",
   "execution_count": 1,
   "id": "7c3c4ec1",
   "metadata": {},
   "outputs": [],
   "source": [
    "import pyodbc\n",
    "import sqlite3"
   ]
  },
  {
   "cell_type": "code",
   "execution_count": 2,
   "id": "a9e2d008",
   "metadata": {},
   "outputs": [],
   "source": [
    "%reload_ext sql"
   ]
  },
  {
   "cell_type": "code",
   "execution_count": 3,
   "id": "de455ec7",
   "metadata": {},
   "outputs": [],
   "source": [
    "%sql sqlite:///Loans.db\n"
   ]
  },
  {
   "cell_type": "code",
   "execution_count": 4,
   "id": "cd0756b4",
   "metadata": {},
   "outputs": [
    {
     "name": "stdout",
     "output_type": "stream",
     "text": [
      " * sqlite:///Loans.db\n",
      "Done.\n"
     ]
    },
    {
     "data": {
      "text/html": [
       "<table>\n",
       "    <thead>\n",
       "        <tr>\n",
       "            <th>name</th>\n",
       "        </tr>\n",
       "    </thead>\n",
       "    <tbody>\n",
       "        <tr>\n",
       "            <td>LoanData</td>\n",
       "        </tr>\n",
       "        <tr>\n",
       "            <td>CustomerData</td>\n",
       "        </tr>\n",
       "    </tbody>\n",
       "</table>"
      ],
      "text/plain": [
       "[('LoanData',), ('CustomerData',)]"
      ]
     },
     "execution_count": 4,
     "metadata": {},
     "output_type": "execute_result"
    }
   ],
   "source": [
    "%%sql\n",
    "SELECT name FROM sqlite_master WHERE type='table';\n"
   ]
  },
  {
   "cell_type": "code",
   "execution_count": 5,
   "id": "c4443b3e",
   "metadata": {
    "scrolled": true
   },
   "outputs": [
    {
     "name": "stdout",
     "output_type": "stream",
     "text": [
      " * sqlite:///Loans.db\n",
      "Done.\n"
     ]
    },
    {
     "data": {
      "text/html": [
       "<table>\n",
       "    <thead>\n",
       "        <tr>\n",
       "            <th>Loan_ID</th>\n",
       "            <th>LoanAmount</th>\n",
       "            <th>Loan_Amount_Term</th>\n",
       "            <th>Loan_Status</th>\n",
       "        </tr>\n",
       "    </thead>\n",
       "    <tbody>\n",
       "        <tr>\n",
       "            <td>LP001002</td>\n",
       "            <td>None</td>\n",
       "            <td>360.0</td>\n",
       "            <td>Y</td>\n",
       "        </tr>\n",
       "        <tr>\n",
       "            <td>LP001003</td>\n",
       "            <td>128.0</td>\n",
       "            <td>360.0</td>\n",
       "            <td>N</td>\n",
       "        </tr>\n",
       "        <tr>\n",
       "            <td>LP001005</td>\n",
       "            <td>66.0</td>\n",
       "            <td>360.0</td>\n",
       "            <td>Y</td>\n",
       "        </tr>\n",
       "        <tr>\n",
       "            <td>LP001006</td>\n",
       "            <td>120.0</td>\n",
       "            <td>360.0</td>\n",
       "            <td>Y</td>\n",
       "        </tr>\n",
       "        <tr>\n",
       "            <td>LP001008</td>\n",
       "            <td>141.0</td>\n",
       "            <td>360.0</td>\n",
       "            <td>Y</td>\n",
       "        </tr>\n",
       "    </tbody>\n",
       "</table>"
      ],
      "text/plain": [
       "[('LP001002', None, 360.0, 'Y'),\n",
       " ('LP001003', 128.0, 360.0, 'N'),\n",
       " ('LP001005', 66.0, 360.0, 'Y'),\n",
       " ('LP001006', 120.0, 360.0, 'Y'),\n",
       " ('LP001008', 141.0, 360.0, 'Y')]"
      ]
     },
     "execution_count": 5,
     "metadata": {},
     "output_type": "execute_result"
    }
   ],
   "source": [
    "%%sql\n",
    "SELECT * FROM LoanData limit 5;\n"
   ]
  },
  {
   "cell_type": "code",
   "execution_count": 6,
   "id": "6a3c74ee",
   "metadata": {
    "scrolled": true
   },
   "outputs": [
    {
     "name": "stdout",
     "output_type": "stream",
     "text": [
      " * sqlite:///Loans.db\n",
      "Done.\n"
     ]
    },
    {
     "data": {
      "text/html": [
       "<table>\n",
       "    <thead>\n",
       "        <tr>\n",
       "            <th>Loan_ID</th>\n",
       "            <th>Gender</th>\n",
       "            <th>Married</th>\n",
       "            <th>Dependents</th>\n",
       "            <th>Education</th>\n",
       "            <th>Self_Employed</th>\n",
       "            <th>ApplicantIncome</th>\n",
       "            <th>Property_Area</th>\n",
       "            <th>Credit_History</th>\n",
       "        </tr>\n",
       "    </thead>\n",
       "    <tbody>\n",
       "        <tr>\n",
       "            <td>LP001002</td>\n",
       "            <td>Male</td>\n",
       "            <td>No</td>\n",
       "            <td>0</td>\n",
       "            <td>Graduate</td>\n",
       "            <td>No</td>\n",
       "            <td>5849</td>\n",
       "            <td>Urban</td>\n",
       "            <td>1.0</td>\n",
       "        </tr>\n",
       "        <tr>\n",
       "            <td>LP001003</td>\n",
       "            <td>Male</td>\n",
       "            <td>Yes</td>\n",
       "            <td>1</td>\n",
       "            <td>Graduate</td>\n",
       "            <td>No</td>\n",
       "            <td>4583</td>\n",
       "            <td>Rural</td>\n",
       "            <td>1.0</td>\n",
       "        </tr>\n",
       "        <tr>\n",
       "            <td>LP001005</td>\n",
       "            <td>Male</td>\n",
       "            <td>Yes</td>\n",
       "            <td>0</td>\n",
       "            <td>Graduate</td>\n",
       "            <td>Yes</td>\n",
       "            <td>3000</td>\n",
       "            <td>Urban</td>\n",
       "            <td>1.0</td>\n",
       "        </tr>\n",
       "        <tr>\n",
       "            <td>LP001006</td>\n",
       "            <td>Male</td>\n",
       "            <td>Yes</td>\n",
       "            <td>0</td>\n",
       "            <td>Not Graduate</td>\n",
       "            <td>No</td>\n",
       "            <td>2583</td>\n",
       "            <td>Urban</td>\n",
       "            <td>1.0</td>\n",
       "        </tr>\n",
       "        <tr>\n",
       "            <td>LP001008</td>\n",
       "            <td>Male</td>\n",
       "            <td>No</td>\n",
       "            <td>0</td>\n",
       "            <td>Graduate</td>\n",
       "            <td>No</td>\n",
       "            <td>6000</td>\n",
       "            <td>Urban</td>\n",
       "            <td>1.0</td>\n",
       "        </tr>\n",
       "    </tbody>\n",
       "</table>"
      ],
      "text/plain": [
       "[('LP001002', 'Male', 'No', '0', 'Graduate', 'No', 5849, 'Urban', 1.0),\n",
       " ('LP001003', 'Male', 'Yes', '1', 'Graduate', 'No', 4583, 'Rural', 1.0),\n",
       " ('LP001005', 'Male', 'Yes', '0', 'Graduate', 'Yes', 3000, 'Urban', 1.0),\n",
       " ('LP001006', 'Male', 'Yes', '0', 'Not Graduate', 'No', 2583, 'Urban', 1.0),\n",
       " ('LP001008', 'Male', 'No', '0', 'Graduate', 'No', 6000, 'Urban', 1.0)]"
      ]
     },
     "execution_count": 6,
     "metadata": {},
     "output_type": "execute_result"
    }
   ],
   "source": [
    "%%sql\n",
    "SELECT * FROM CustomerData limit 5;\n"
   ]
  },
  {
   "cell_type": "markdown",
   "id": "2db7f021",
   "metadata": {},
   "source": [
    "### Handling Null Values"
   ]
  },
  {
   "cell_type": "code",
   "execution_count": 7,
   "id": "a6c209c1",
   "metadata": {
    "scrolled": true
   },
   "outputs": [
    {
     "name": "stdout",
     "output_type": "stream",
     "text": [
      " * sqlite:///Loans.db\n",
      "Done.\n"
     ]
    },
    {
     "data": {
      "text/html": [
       "<table>\n",
       "    <thead>\n",
       "        <tr>\n",
       "            <th>count(*)</th>\n",
       "        </tr>\n",
       "    </thead>\n",
       "    <tbody>\n",
       "        <tr>\n",
       "            <td>32</td>\n",
       "        </tr>\n",
       "    </tbody>\n",
       "</table>"
      ],
      "text/plain": [
       "[(32,)]"
      ]
     },
     "execution_count": 7,
     "metadata": {},
     "output_type": "execute_result"
    }
   ],
   "source": [
    "%%sql\n",
    "select count(*) from CustomerData where Self_Employed is null"
   ]
  },
  {
   "cell_type": "markdown",
   "id": "e3edfe65",
   "metadata": {},
   "source": [
    "### Adding a Default Value (UPDATE STATEMENT)"
   ]
  },
  {
   "cell_type": "markdown",
   "id": "8cc45204",
   "metadata": {},
   "source": [
    "#### Default Self Employed as: NO"
   ]
  },
  {
   "cell_type": "code",
   "execution_count": 8,
   "id": "01b2b10f",
   "metadata": {},
   "outputs": [
    {
     "name": "stdout",
     "output_type": "stream",
     "text": [
      " * sqlite:///Loans.db\n",
      "32 rows affected.\n",
      "Done.\n"
     ]
    },
    {
     "data": {
      "text/html": [
       "<table>\n",
       "    <thead>\n",
       "        <tr>\n",
       "            <th>Loan_ID</th>\n",
       "            <th>Gender</th>\n",
       "            <th>Married</th>\n",
       "            <th>Dependents</th>\n",
       "            <th>Education</th>\n",
       "            <th>Self_Employed</th>\n",
       "            <th>ApplicantIncome</th>\n",
       "            <th>Property_Area</th>\n",
       "            <th>Credit_History</th>\n",
       "        </tr>\n",
       "    </thead>\n",
       "    <tbody>\n",
       "        <tr>\n",
       "            <td>LP001002</td>\n",
       "            <td>Male</td>\n",
       "            <td>No</td>\n",
       "            <td>0</td>\n",
       "            <td>Graduate</td>\n",
       "            <td>No</td>\n",
       "            <td>5849</td>\n",
       "            <td>Urban</td>\n",
       "            <td>1.0</td>\n",
       "        </tr>\n",
       "        <tr>\n",
       "            <td>LP001003</td>\n",
       "            <td>Male</td>\n",
       "            <td>Yes</td>\n",
       "            <td>1</td>\n",
       "            <td>Graduate</td>\n",
       "            <td>No</td>\n",
       "            <td>4583</td>\n",
       "            <td>Rural</td>\n",
       "            <td>1.0</td>\n",
       "        </tr>\n",
       "        <tr>\n",
       "            <td>LP001005</td>\n",
       "            <td>Male</td>\n",
       "            <td>Yes</td>\n",
       "            <td>0</td>\n",
       "            <td>Graduate</td>\n",
       "            <td>Yes</td>\n",
       "            <td>3000</td>\n",
       "            <td>Urban</td>\n",
       "            <td>1.0</td>\n",
       "        </tr>\n",
       "        <tr>\n",
       "            <td>LP001006</td>\n",
       "            <td>Male</td>\n",
       "            <td>Yes</td>\n",
       "            <td>0</td>\n",
       "            <td>Not Graduate</td>\n",
       "            <td>No</td>\n",
       "            <td>2583</td>\n",
       "            <td>Urban</td>\n",
       "            <td>1.0</td>\n",
       "        </tr>\n",
       "        <tr>\n",
       "            <td>LP001008</td>\n",
       "            <td>Male</td>\n",
       "            <td>No</td>\n",
       "            <td>0</td>\n",
       "            <td>Graduate</td>\n",
       "            <td>No</td>\n",
       "            <td>6000</td>\n",
       "            <td>Urban</td>\n",
       "            <td>1.0</td>\n",
       "        </tr>\n",
       "        <tr>\n",
       "            <td>LP001011</td>\n",
       "            <td>Male</td>\n",
       "            <td>Yes</td>\n",
       "            <td>2</td>\n",
       "            <td>Graduate</td>\n",
       "            <td>Yes</td>\n",
       "            <td>5417</td>\n",
       "            <td>Urban</td>\n",
       "            <td>1.0</td>\n",
       "        </tr>\n",
       "        <tr>\n",
       "            <td>LP001013</td>\n",
       "            <td>Male</td>\n",
       "            <td>Yes</td>\n",
       "            <td>0</td>\n",
       "            <td>Not Graduate</td>\n",
       "            <td>No</td>\n",
       "            <td>2333</td>\n",
       "            <td>Urban</td>\n",
       "            <td>1.0</td>\n",
       "        </tr>\n",
       "        <tr>\n",
       "            <td>LP001014</td>\n",
       "            <td>Male</td>\n",
       "            <td>Yes</td>\n",
       "            <td>3+</td>\n",
       "            <td>Graduate</td>\n",
       "            <td>No</td>\n",
       "            <td>3036</td>\n",
       "            <td>Semiurban</td>\n",
       "            <td>0.0</td>\n",
       "        </tr>\n",
       "        <tr>\n",
       "            <td>LP001018</td>\n",
       "            <td>Male</td>\n",
       "            <td>Yes</td>\n",
       "            <td>2</td>\n",
       "            <td>Graduate</td>\n",
       "            <td>No</td>\n",
       "            <td>4006</td>\n",
       "            <td>Urban</td>\n",
       "            <td>1.0</td>\n",
       "        </tr>\n",
       "        <tr>\n",
       "            <td>LP001020</td>\n",
       "            <td>Male</td>\n",
       "            <td>Yes</td>\n",
       "            <td>1</td>\n",
       "            <td>Graduate</td>\n",
       "            <td>No</td>\n",
       "            <td>12841</td>\n",
       "            <td>Semiurban</td>\n",
       "            <td>1.0</td>\n",
       "        </tr>\n",
       "    </tbody>\n",
       "</table>"
      ],
      "text/plain": [
       "[('LP001002', 'Male', 'No', '0', 'Graduate', 'No', 5849, 'Urban', 1.0),\n",
       " ('LP001003', 'Male', 'Yes', '1', 'Graduate', 'No', 4583, 'Rural', 1.0),\n",
       " ('LP001005', 'Male', 'Yes', '0', 'Graduate', 'Yes', 3000, 'Urban', 1.0),\n",
       " ('LP001006', 'Male', 'Yes', '0', 'Not Graduate', 'No', 2583, 'Urban', 1.0),\n",
       " ('LP001008', 'Male', 'No', '0', 'Graduate', 'No', 6000, 'Urban', 1.0),\n",
       " ('LP001011', 'Male', 'Yes', '2', 'Graduate', 'Yes', 5417, 'Urban', 1.0),\n",
       " ('LP001013', 'Male', 'Yes', '0', 'Not Graduate', 'No', 2333, 'Urban', 1.0),\n",
       " ('LP001014', 'Male', 'Yes', '3+', 'Graduate', 'No', 3036, 'Semiurban', 0.0),\n",
       " ('LP001018', 'Male', 'Yes', '2', 'Graduate', 'No', 4006, 'Urban', 1.0),\n",
       " ('LP001020', 'Male', 'Yes', '1', 'Graduate', 'No', 12841, 'Semiurban', 1.0)]"
      ]
     },
     "execution_count": 8,
     "metadata": {},
     "output_type": "execute_result"
    }
   ],
   "source": [
    "%%sql\n",
    "UPDATE CustomerData\n",
    "SET Self_Employed = 'No'\n",
    "WHERE Self_Employed is null;\n",
    "\n",
    "select* from CustomerData limit 10;"
   ]
  },
  {
   "cell_type": "code",
   "execution_count": 9,
   "id": "2454492a",
   "metadata": {},
   "outputs": [
    {
     "name": "stdout",
     "output_type": "stream",
     "text": [
      " * sqlite:///Loans.db\n",
      "Done.\n"
     ]
    },
    {
     "data": {
      "text/html": [
       "<table>\n",
       "    <thead>\n",
       "        <tr>\n",
       "            <th>count(*)</th>\n",
       "        </tr>\n",
       "    </thead>\n",
       "    <tbody>\n",
       "        <tr>\n",
       "            <td>0</td>\n",
       "        </tr>\n",
       "    </tbody>\n",
       "</table>"
      ],
      "text/plain": [
       "[(0,)]"
      ]
     },
     "execution_count": 9,
     "metadata": {},
     "output_type": "execute_result"
    }
   ],
   "source": [
    "%%sql\n",
    "select count(*) from CustomerData where Self_Employed is null"
   ]
  },
  {
   "cell_type": "markdown",
   "id": "8c5f0851",
   "metadata": {},
   "source": [
    "#### Default Credit History: 0.0"
   ]
  },
  {
   "cell_type": "code",
   "execution_count": 10,
   "id": "b1e9b80c",
   "metadata": {},
   "outputs": [
    {
     "name": "stdout",
     "output_type": "stream",
     "text": [
      " * sqlite:///Loans.db\n",
      "50 rows affected.\n",
      "Done.\n"
     ]
    },
    {
     "data": {
      "text/html": [
       "<table>\n",
       "    <thead>\n",
       "        <tr>\n",
       "            <th>Loan_ID</th>\n",
       "            <th>Gender</th>\n",
       "            <th>Married</th>\n",
       "            <th>Dependents</th>\n",
       "            <th>Education</th>\n",
       "            <th>Self_Employed</th>\n",
       "            <th>ApplicantIncome</th>\n",
       "            <th>Property_Area</th>\n",
       "            <th>Credit_History</th>\n",
       "        </tr>\n",
       "    </thead>\n",
       "    <tbody>\n",
       "        <tr>\n",
       "            <td>LP001002</td>\n",
       "            <td>Male</td>\n",
       "            <td>No</td>\n",
       "            <td>0</td>\n",
       "            <td>Graduate</td>\n",
       "            <td>No</td>\n",
       "            <td>5849</td>\n",
       "            <td>Urban</td>\n",
       "            <td>1.0</td>\n",
       "        </tr>\n",
       "        <tr>\n",
       "            <td>LP001003</td>\n",
       "            <td>Male</td>\n",
       "            <td>Yes</td>\n",
       "            <td>1</td>\n",
       "            <td>Graduate</td>\n",
       "            <td>No</td>\n",
       "            <td>4583</td>\n",
       "            <td>Rural</td>\n",
       "            <td>1.0</td>\n",
       "        </tr>\n",
       "        <tr>\n",
       "            <td>LP001005</td>\n",
       "            <td>Male</td>\n",
       "            <td>Yes</td>\n",
       "            <td>0</td>\n",
       "            <td>Graduate</td>\n",
       "            <td>Yes</td>\n",
       "            <td>3000</td>\n",
       "            <td>Urban</td>\n",
       "            <td>1.0</td>\n",
       "        </tr>\n",
       "        <tr>\n",
       "            <td>LP001006</td>\n",
       "            <td>Male</td>\n",
       "            <td>Yes</td>\n",
       "            <td>0</td>\n",
       "            <td>Not Graduate</td>\n",
       "            <td>No</td>\n",
       "            <td>2583</td>\n",
       "            <td>Urban</td>\n",
       "            <td>1.0</td>\n",
       "        </tr>\n",
       "        <tr>\n",
       "            <td>LP001008</td>\n",
       "            <td>Male</td>\n",
       "            <td>No</td>\n",
       "            <td>0</td>\n",
       "            <td>Graduate</td>\n",
       "            <td>No</td>\n",
       "            <td>6000</td>\n",
       "            <td>Urban</td>\n",
       "            <td>1.0</td>\n",
       "        </tr>\n",
       "        <tr>\n",
       "            <td>LP001011</td>\n",
       "            <td>Male</td>\n",
       "            <td>Yes</td>\n",
       "            <td>2</td>\n",
       "            <td>Graduate</td>\n",
       "            <td>Yes</td>\n",
       "            <td>5417</td>\n",
       "            <td>Urban</td>\n",
       "            <td>1.0</td>\n",
       "        </tr>\n",
       "        <tr>\n",
       "            <td>LP001013</td>\n",
       "            <td>Male</td>\n",
       "            <td>Yes</td>\n",
       "            <td>0</td>\n",
       "            <td>Not Graduate</td>\n",
       "            <td>No</td>\n",
       "            <td>2333</td>\n",
       "            <td>Urban</td>\n",
       "            <td>1.0</td>\n",
       "        </tr>\n",
       "        <tr>\n",
       "            <td>LP001014</td>\n",
       "            <td>Male</td>\n",
       "            <td>Yes</td>\n",
       "            <td>3+</td>\n",
       "            <td>Graduate</td>\n",
       "            <td>No</td>\n",
       "            <td>3036</td>\n",
       "            <td>Semiurban</td>\n",
       "            <td>0.0</td>\n",
       "        </tr>\n",
       "        <tr>\n",
       "            <td>LP001018</td>\n",
       "            <td>Male</td>\n",
       "            <td>Yes</td>\n",
       "            <td>2</td>\n",
       "            <td>Graduate</td>\n",
       "            <td>No</td>\n",
       "            <td>4006</td>\n",
       "            <td>Urban</td>\n",
       "            <td>1.0</td>\n",
       "        </tr>\n",
       "        <tr>\n",
       "            <td>LP001020</td>\n",
       "            <td>Male</td>\n",
       "            <td>Yes</td>\n",
       "            <td>1</td>\n",
       "            <td>Graduate</td>\n",
       "            <td>No</td>\n",
       "            <td>12841</td>\n",
       "            <td>Semiurban</td>\n",
       "            <td>1.0</td>\n",
       "        </tr>\n",
       "    </tbody>\n",
       "</table>"
      ],
      "text/plain": [
       "[('LP001002', 'Male', 'No', '0', 'Graduate', 'No', 5849, 'Urban', 1.0),\n",
       " ('LP001003', 'Male', 'Yes', '1', 'Graduate', 'No', 4583, 'Rural', 1.0),\n",
       " ('LP001005', 'Male', 'Yes', '0', 'Graduate', 'Yes', 3000, 'Urban', 1.0),\n",
       " ('LP001006', 'Male', 'Yes', '0', 'Not Graduate', 'No', 2583, 'Urban', 1.0),\n",
       " ('LP001008', 'Male', 'No', '0', 'Graduate', 'No', 6000, 'Urban', 1.0),\n",
       " ('LP001011', 'Male', 'Yes', '2', 'Graduate', 'Yes', 5417, 'Urban', 1.0),\n",
       " ('LP001013', 'Male', 'Yes', '0', 'Not Graduate', 'No', 2333, 'Urban', 1.0),\n",
       " ('LP001014', 'Male', 'Yes', '3+', 'Graduate', 'No', 3036, 'Semiurban', 0.0),\n",
       " ('LP001018', 'Male', 'Yes', '2', 'Graduate', 'No', 4006, 'Urban', 1.0),\n",
       " ('LP001020', 'Male', 'Yes', '1', 'Graduate', 'No', 12841, 'Semiurban', 1.0)]"
      ]
     },
     "execution_count": 10,
     "metadata": {},
     "output_type": "execute_result"
    }
   ],
   "source": [
    "%%sql\n",
    "UPDATE CustomerData\n",
    "SET Credit_History = 0.0\n",
    "WHERE Credit_History is null;\n",
    "\n",
    "select* from CustomerData limit 10;"
   ]
  },
  {
   "cell_type": "markdown",
   "id": "80fdd249",
   "metadata": {},
   "source": [
    "#### Default Number of Dependents: 0"
   ]
  },
  {
   "cell_type": "code",
   "execution_count": 11,
   "id": "a1703042",
   "metadata": {
    "scrolled": true
   },
   "outputs": [
    {
     "name": "stdout",
     "output_type": "stream",
     "text": [
      " * sqlite:///Loans.db\n",
      "Done.\n"
     ]
    },
    {
     "data": {
      "text/html": [
       "<table>\n",
       "    <thead>\n",
       "        <tr>\n",
       "            <th>count(*)</th>\n",
       "        </tr>\n",
       "    </thead>\n",
       "    <tbody>\n",
       "        <tr>\n",
       "            <td>15</td>\n",
       "        </tr>\n",
       "    </tbody>\n",
       "</table>"
      ],
      "text/plain": [
       "[(15,)]"
      ]
     },
     "execution_count": 11,
     "metadata": {},
     "output_type": "execute_result"
    }
   ],
   "source": [
    "%%sql\n",
    "select count(*) from CustomerData where Dependents is null"
   ]
  },
  {
   "cell_type": "code",
   "execution_count": 12,
   "id": "a876cbec",
   "metadata": {},
   "outputs": [
    {
     "name": "stdout",
     "output_type": "stream",
     "text": [
      " * sqlite:///Loans.db\n",
      "15 rows affected.\n",
      "Done.\n"
     ]
    },
    {
     "data": {
      "text/html": [
       "<table>\n",
       "    <thead>\n",
       "        <tr>\n",
       "            <th>Loan_ID</th>\n",
       "            <th>Gender</th>\n",
       "            <th>Married</th>\n",
       "            <th>Dependents</th>\n",
       "            <th>Education</th>\n",
       "            <th>Self_Employed</th>\n",
       "            <th>ApplicantIncome</th>\n",
       "            <th>Property_Area</th>\n",
       "            <th>Credit_History</th>\n",
       "        </tr>\n",
       "    </thead>\n",
       "    <tbody>\n",
       "        <tr>\n",
       "            <td>LP001002</td>\n",
       "            <td>Male</td>\n",
       "            <td>No</td>\n",
       "            <td>0</td>\n",
       "            <td>Graduate</td>\n",
       "            <td>No</td>\n",
       "            <td>5849</td>\n",
       "            <td>Urban</td>\n",
       "            <td>1.0</td>\n",
       "        </tr>\n",
       "        <tr>\n",
       "            <td>LP001003</td>\n",
       "            <td>Male</td>\n",
       "            <td>Yes</td>\n",
       "            <td>1</td>\n",
       "            <td>Graduate</td>\n",
       "            <td>No</td>\n",
       "            <td>4583</td>\n",
       "            <td>Rural</td>\n",
       "            <td>1.0</td>\n",
       "        </tr>\n",
       "        <tr>\n",
       "            <td>LP001005</td>\n",
       "            <td>Male</td>\n",
       "            <td>Yes</td>\n",
       "            <td>0</td>\n",
       "            <td>Graduate</td>\n",
       "            <td>Yes</td>\n",
       "            <td>3000</td>\n",
       "            <td>Urban</td>\n",
       "            <td>1.0</td>\n",
       "        </tr>\n",
       "        <tr>\n",
       "            <td>LP001006</td>\n",
       "            <td>Male</td>\n",
       "            <td>Yes</td>\n",
       "            <td>0</td>\n",
       "            <td>Not Graduate</td>\n",
       "            <td>No</td>\n",
       "            <td>2583</td>\n",
       "            <td>Urban</td>\n",
       "            <td>1.0</td>\n",
       "        </tr>\n",
       "        <tr>\n",
       "            <td>LP001008</td>\n",
       "            <td>Male</td>\n",
       "            <td>No</td>\n",
       "            <td>0</td>\n",
       "            <td>Graduate</td>\n",
       "            <td>No</td>\n",
       "            <td>6000</td>\n",
       "            <td>Urban</td>\n",
       "            <td>1.0</td>\n",
       "        </tr>\n",
       "        <tr>\n",
       "            <td>LP001011</td>\n",
       "            <td>Male</td>\n",
       "            <td>Yes</td>\n",
       "            <td>2</td>\n",
       "            <td>Graduate</td>\n",
       "            <td>Yes</td>\n",
       "            <td>5417</td>\n",
       "            <td>Urban</td>\n",
       "            <td>1.0</td>\n",
       "        </tr>\n",
       "        <tr>\n",
       "            <td>LP001013</td>\n",
       "            <td>Male</td>\n",
       "            <td>Yes</td>\n",
       "            <td>0</td>\n",
       "            <td>Not Graduate</td>\n",
       "            <td>No</td>\n",
       "            <td>2333</td>\n",
       "            <td>Urban</td>\n",
       "            <td>1.0</td>\n",
       "        </tr>\n",
       "        <tr>\n",
       "            <td>LP001014</td>\n",
       "            <td>Male</td>\n",
       "            <td>Yes</td>\n",
       "            <td>3+</td>\n",
       "            <td>Graduate</td>\n",
       "            <td>No</td>\n",
       "            <td>3036</td>\n",
       "            <td>Semiurban</td>\n",
       "            <td>0.0</td>\n",
       "        </tr>\n",
       "        <tr>\n",
       "            <td>LP001018</td>\n",
       "            <td>Male</td>\n",
       "            <td>Yes</td>\n",
       "            <td>2</td>\n",
       "            <td>Graduate</td>\n",
       "            <td>No</td>\n",
       "            <td>4006</td>\n",
       "            <td>Urban</td>\n",
       "            <td>1.0</td>\n",
       "        </tr>\n",
       "        <tr>\n",
       "            <td>LP001020</td>\n",
       "            <td>Male</td>\n",
       "            <td>Yes</td>\n",
       "            <td>1</td>\n",
       "            <td>Graduate</td>\n",
       "            <td>No</td>\n",
       "            <td>12841</td>\n",
       "            <td>Semiurban</td>\n",
       "            <td>1.0</td>\n",
       "        </tr>\n",
       "    </tbody>\n",
       "</table>"
      ],
      "text/plain": [
       "[('LP001002', 'Male', 'No', '0', 'Graduate', 'No', 5849, 'Urban', 1.0),\n",
       " ('LP001003', 'Male', 'Yes', '1', 'Graduate', 'No', 4583, 'Rural', 1.0),\n",
       " ('LP001005', 'Male', 'Yes', '0', 'Graduate', 'Yes', 3000, 'Urban', 1.0),\n",
       " ('LP001006', 'Male', 'Yes', '0', 'Not Graduate', 'No', 2583, 'Urban', 1.0),\n",
       " ('LP001008', 'Male', 'No', '0', 'Graduate', 'No', 6000, 'Urban', 1.0),\n",
       " ('LP001011', 'Male', 'Yes', '2', 'Graduate', 'Yes', 5417, 'Urban', 1.0),\n",
       " ('LP001013', 'Male', 'Yes', '0', 'Not Graduate', 'No', 2333, 'Urban', 1.0),\n",
       " ('LP001014', 'Male', 'Yes', '3+', 'Graduate', 'No', 3036, 'Semiurban', 0.0),\n",
       " ('LP001018', 'Male', 'Yes', '2', 'Graduate', 'No', 4006, 'Urban', 1.0),\n",
       " ('LP001020', 'Male', 'Yes', '1', 'Graduate', 'No', 12841, 'Semiurban', 1.0)]"
      ]
     },
     "execution_count": 12,
     "metadata": {},
     "output_type": "execute_result"
    }
   ],
   "source": [
    "%%sql\n",
    "UPDATE CustomerData\n",
    "SET Dependents = '0'\n",
    "WHERE Dependents is null;\n",
    "\n",
    "select* from CustomerData limit 10;"
   ]
  },
  {
   "cell_type": "markdown",
   "id": "d4c2b0c9",
   "metadata": {},
   "source": [
    "#### Default Marriage Status: NO"
   ]
  },
  {
   "cell_type": "code",
   "execution_count": 13,
   "id": "502813c6",
   "metadata": {},
   "outputs": [
    {
     "name": "stdout",
     "output_type": "stream",
     "text": [
      " * sqlite:///Loans.db\n",
      "Done.\n"
     ]
    },
    {
     "data": {
      "text/html": [
       "<table>\n",
       "    <thead>\n",
       "        <tr>\n",
       "            <th>count(*)</th>\n",
       "        </tr>\n",
       "    </thead>\n",
       "    <tbody>\n",
       "        <tr>\n",
       "            <td>3</td>\n",
       "        </tr>\n",
       "    </tbody>\n",
       "</table>"
      ],
      "text/plain": [
       "[(3,)]"
      ]
     },
     "execution_count": 13,
     "metadata": {},
     "output_type": "execute_result"
    }
   ],
   "source": [
    "%%sql\n",
    "select count(*) from CustomerData where Married is null"
   ]
  },
  {
   "cell_type": "code",
   "execution_count": 14,
   "id": "f5bd9032",
   "metadata": {
    "scrolled": true
   },
   "outputs": [
    {
     "name": "stdout",
     "output_type": "stream",
     "text": [
      " * sqlite:///Loans.db\n",
      "3 rows affected.\n",
      "Done.\n"
     ]
    },
    {
     "data": {
      "text/html": [
       "<table>\n",
       "    <thead>\n",
       "        <tr>\n",
       "            <th>Loan_ID</th>\n",
       "            <th>Gender</th>\n",
       "            <th>Married</th>\n",
       "            <th>Dependents</th>\n",
       "            <th>Education</th>\n",
       "            <th>Self_Employed</th>\n",
       "            <th>ApplicantIncome</th>\n",
       "            <th>Property_Area</th>\n",
       "            <th>Credit_History</th>\n",
       "        </tr>\n",
       "    </thead>\n",
       "    <tbody>\n",
       "        <tr>\n",
       "            <td>LP001002</td>\n",
       "            <td>Male</td>\n",
       "            <td>No</td>\n",
       "            <td>0</td>\n",
       "            <td>Graduate</td>\n",
       "            <td>No</td>\n",
       "            <td>5849</td>\n",
       "            <td>Urban</td>\n",
       "            <td>1.0</td>\n",
       "        </tr>\n",
       "        <tr>\n",
       "            <td>LP001003</td>\n",
       "            <td>Male</td>\n",
       "            <td>Yes</td>\n",
       "            <td>1</td>\n",
       "            <td>Graduate</td>\n",
       "            <td>No</td>\n",
       "            <td>4583</td>\n",
       "            <td>Rural</td>\n",
       "            <td>1.0</td>\n",
       "        </tr>\n",
       "        <tr>\n",
       "            <td>LP001005</td>\n",
       "            <td>Male</td>\n",
       "            <td>Yes</td>\n",
       "            <td>0</td>\n",
       "            <td>Graduate</td>\n",
       "            <td>Yes</td>\n",
       "            <td>3000</td>\n",
       "            <td>Urban</td>\n",
       "            <td>1.0</td>\n",
       "        </tr>\n",
       "        <tr>\n",
       "            <td>LP001006</td>\n",
       "            <td>Male</td>\n",
       "            <td>Yes</td>\n",
       "            <td>0</td>\n",
       "            <td>Not Graduate</td>\n",
       "            <td>No</td>\n",
       "            <td>2583</td>\n",
       "            <td>Urban</td>\n",
       "            <td>1.0</td>\n",
       "        </tr>\n",
       "        <tr>\n",
       "            <td>LP001008</td>\n",
       "            <td>Male</td>\n",
       "            <td>No</td>\n",
       "            <td>0</td>\n",
       "            <td>Graduate</td>\n",
       "            <td>No</td>\n",
       "            <td>6000</td>\n",
       "            <td>Urban</td>\n",
       "            <td>1.0</td>\n",
       "        </tr>\n",
       "        <tr>\n",
       "            <td>LP001011</td>\n",
       "            <td>Male</td>\n",
       "            <td>Yes</td>\n",
       "            <td>2</td>\n",
       "            <td>Graduate</td>\n",
       "            <td>Yes</td>\n",
       "            <td>5417</td>\n",
       "            <td>Urban</td>\n",
       "            <td>1.0</td>\n",
       "        </tr>\n",
       "        <tr>\n",
       "            <td>LP001013</td>\n",
       "            <td>Male</td>\n",
       "            <td>Yes</td>\n",
       "            <td>0</td>\n",
       "            <td>Not Graduate</td>\n",
       "            <td>No</td>\n",
       "            <td>2333</td>\n",
       "            <td>Urban</td>\n",
       "            <td>1.0</td>\n",
       "        </tr>\n",
       "        <tr>\n",
       "            <td>LP001014</td>\n",
       "            <td>Male</td>\n",
       "            <td>Yes</td>\n",
       "            <td>3+</td>\n",
       "            <td>Graduate</td>\n",
       "            <td>No</td>\n",
       "            <td>3036</td>\n",
       "            <td>Semiurban</td>\n",
       "            <td>0.0</td>\n",
       "        </tr>\n",
       "        <tr>\n",
       "            <td>LP001018</td>\n",
       "            <td>Male</td>\n",
       "            <td>Yes</td>\n",
       "            <td>2</td>\n",
       "            <td>Graduate</td>\n",
       "            <td>No</td>\n",
       "            <td>4006</td>\n",
       "            <td>Urban</td>\n",
       "            <td>1.0</td>\n",
       "        </tr>\n",
       "        <tr>\n",
       "            <td>LP001020</td>\n",
       "            <td>Male</td>\n",
       "            <td>Yes</td>\n",
       "            <td>1</td>\n",
       "            <td>Graduate</td>\n",
       "            <td>No</td>\n",
       "            <td>12841</td>\n",
       "            <td>Semiurban</td>\n",
       "            <td>1.0</td>\n",
       "        </tr>\n",
       "    </tbody>\n",
       "</table>"
      ],
      "text/plain": [
       "[('LP001002', 'Male', 'No', '0', 'Graduate', 'No', 5849, 'Urban', 1.0),\n",
       " ('LP001003', 'Male', 'Yes', '1', 'Graduate', 'No', 4583, 'Rural', 1.0),\n",
       " ('LP001005', 'Male', 'Yes', '0', 'Graduate', 'Yes', 3000, 'Urban', 1.0),\n",
       " ('LP001006', 'Male', 'Yes', '0', 'Not Graduate', 'No', 2583, 'Urban', 1.0),\n",
       " ('LP001008', 'Male', 'No', '0', 'Graduate', 'No', 6000, 'Urban', 1.0),\n",
       " ('LP001011', 'Male', 'Yes', '2', 'Graduate', 'Yes', 5417, 'Urban', 1.0),\n",
       " ('LP001013', 'Male', 'Yes', '0', 'Not Graduate', 'No', 2333, 'Urban', 1.0),\n",
       " ('LP001014', 'Male', 'Yes', '3+', 'Graduate', 'No', 3036, 'Semiurban', 0.0),\n",
       " ('LP001018', 'Male', 'Yes', '2', 'Graduate', 'No', 4006, 'Urban', 1.0),\n",
       " ('LP001020', 'Male', 'Yes', '1', 'Graduate', 'No', 12841, 'Semiurban', 1.0)]"
      ]
     },
     "execution_count": 14,
     "metadata": {},
     "output_type": "execute_result"
    }
   ],
   "source": [
    "%%sql\n",
    "UPDATE CustomerData\n",
    "SET Married = 'No'\n",
    "WHERE Married is null;\n",
    "\n",
    "select* from CustomerData limit 10;"
   ]
  },
  {
   "cell_type": "markdown",
   "id": "e111cc43",
   "metadata": {},
   "source": [
    "#### Default Gender: Not Specified"
   ]
  },
  {
   "cell_type": "code",
   "execution_count": 15,
   "id": "84b6da36",
   "metadata": {
    "scrolled": true
   },
   "outputs": [
    {
     "name": "stdout",
     "output_type": "stream",
     "text": [
      " * sqlite:///Loans.db\n",
      "13 rows affected.\n",
      "Done.\n"
     ]
    },
    {
     "data": {
      "text/html": [
       "<table>\n",
       "    <thead>\n",
       "        <tr>\n",
       "            <th>Loan_ID</th>\n",
       "            <th>Gender</th>\n",
       "            <th>Married</th>\n",
       "            <th>Dependents</th>\n",
       "            <th>Education</th>\n",
       "            <th>Self_Employed</th>\n",
       "            <th>ApplicantIncome</th>\n",
       "            <th>Property_Area</th>\n",
       "            <th>Credit_History</th>\n",
       "        </tr>\n",
       "    </thead>\n",
       "    <tbody>\n",
       "        <tr>\n",
       "            <td>LP001002</td>\n",
       "            <td>Male</td>\n",
       "            <td>No</td>\n",
       "            <td>0</td>\n",
       "            <td>Graduate</td>\n",
       "            <td>No</td>\n",
       "            <td>5849</td>\n",
       "            <td>Urban</td>\n",
       "            <td>1.0</td>\n",
       "        </tr>\n",
       "        <tr>\n",
       "            <td>LP001003</td>\n",
       "            <td>Male</td>\n",
       "            <td>Yes</td>\n",
       "            <td>1</td>\n",
       "            <td>Graduate</td>\n",
       "            <td>No</td>\n",
       "            <td>4583</td>\n",
       "            <td>Rural</td>\n",
       "            <td>1.0</td>\n",
       "        </tr>\n",
       "        <tr>\n",
       "            <td>LP001005</td>\n",
       "            <td>Male</td>\n",
       "            <td>Yes</td>\n",
       "            <td>0</td>\n",
       "            <td>Graduate</td>\n",
       "            <td>Yes</td>\n",
       "            <td>3000</td>\n",
       "            <td>Urban</td>\n",
       "            <td>1.0</td>\n",
       "        </tr>\n",
       "        <tr>\n",
       "            <td>LP001006</td>\n",
       "            <td>Male</td>\n",
       "            <td>Yes</td>\n",
       "            <td>0</td>\n",
       "            <td>Not Graduate</td>\n",
       "            <td>No</td>\n",
       "            <td>2583</td>\n",
       "            <td>Urban</td>\n",
       "            <td>1.0</td>\n",
       "        </tr>\n",
       "        <tr>\n",
       "            <td>LP001008</td>\n",
       "            <td>Male</td>\n",
       "            <td>No</td>\n",
       "            <td>0</td>\n",
       "            <td>Graduate</td>\n",
       "            <td>No</td>\n",
       "            <td>6000</td>\n",
       "            <td>Urban</td>\n",
       "            <td>1.0</td>\n",
       "        </tr>\n",
       "        <tr>\n",
       "            <td>LP001011</td>\n",
       "            <td>Male</td>\n",
       "            <td>Yes</td>\n",
       "            <td>2</td>\n",
       "            <td>Graduate</td>\n",
       "            <td>Yes</td>\n",
       "            <td>5417</td>\n",
       "            <td>Urban</td>\n",
       "            <td>1.0</td>\n",
       "        </tr>\n",
       "        <tr>\n",
       "            <td>LP001013</td>\n",
       "            <td>Male</td>\n",
       "            <td>Yes</td>\n",
       "            <td>0</td>\n",
       "            <td>Not Graduate</td>\n",
       "            <td>No</td>\n",
       "            <td>2333</td>\n",
       "            <td>Urban</td>\n",
       "            <td>1.0</td>\n",
       "        </tr>\n",
       "        <tr>\n",
       "            <td>LP001014</td>\n",
       "            <td>Male</td>\n",
       "            <td>Yes</td>\n",
       "            <td>3+</td>\n",
       "            <td>Graduate</td>\n",
       "            <td>No</td>\n",
       "            <td>3036</td>\n",
       "            <td>Semiurban</td>\n",
       "            <td>0.0</td>\n",
       "        </tr>\n",
       "        <tr>\n",
       "            <td>LP001018</td>\n",
       "            <td>Male</td>\n",
       "            <td>Yes</td>\n",
       "            <td>2</td>\n",
       "            <td>Graduate</td>\n",
       "            <td>No</td>\n",
       "            <td>4006</td>\n",
       "            <td>Urban</td>\n",
       "            <td>1.0</td>\n",
       "        </tr>\n",
       "        <tr>\n",
       "            <td>LP001020</td>\n",
       "            <td>Male</td>\n",
       "            <td>Yes</td>\n",
       "            <td>1</td>\n",
       "            <td>Graduate</td>\n",
       "            <td>No</td>\n",
       "            <td>12841</td>\n",
       "            <td>Semiurban</td>\n",
       "            <td>1.0</td>\n",
       "        </tr>\n",
       "    </tbody>\n",
       "</table>"
      ],
      "text/plain": [
       "[('LP001002', 'Male', 'No', '0', 'Graduate', 'No', 5849, 'Urban', 1.0),\n",
       " ('LP001003', 'Male', 'Yes', '1', 'Graduate', 'No', 4583, 'Rural', 1.0),\n",
       " ('LP001005', 'Male', 'Yes', '0', 'Graduate', 'Yes', 3000, 'Urban', 1.0),\n",
       " ('LP001006', 'Male', 'Yes', '0', 'Not Graduate', 'No', 2583, 'Urban', 1.0),\n",
       " ('LP001008', 'Male', 'No', '0', 'Graduate', 'No', 6000, 'Urban', 1.0),\n",
       " ('LP001011', 'Male', 'Yes', '2', 'Graduate', 'Yes', 5417, 'Urban', 1.0),\n",
       " ('LP001013', 'Male', 'Yes', '0', 'Not Graduate', 'No', 2333, 'Urban', 1.0),\n",
       " ('LP001014', 'Male', 'Yes', '3+', 'Graduate', 'No', 3036, 'Semiurban', 0.0),\n",
       " ('LP001018', 'Male', 'Yes', '2', 'Graduate', 'No', 4006, 'Urban', 1.0),\n",
       " ('LP001020', 'Male', 'Yes', '1', 'Graduate', 'No', 12841, 'Semiurban', 1.0)]"
      ]
     },
     "execution_count": 15,
     "metadata": {},
     "output_type": "execute_result"
    }
   ],
   "source": [
    "%%sql\n",
    "UPDATE CustomerData\n",
    "SET Gender = 'Not Specified'\n",
    "WHERE Gender is null;\n",
    "\n",
    "select* from CustomerData limit 10;"
   ]
  },
  {
   "cell_type": "markdown",
   "id": "fc0f9e4a",
   "metadata": {},
   "source": [
    "### Deleting Null rows"
   ]
  },
  {
   "cell_type": "code",
   "execution_count": 16,
   "id": "6dd0b9a0",
   "metadata": {
    "scrolled": true
   },
   "outputs": [
    {
     "name": "stdout",
     "output_type": "stream",
     "text": [
      " * sqlite:///Loans.db\n",
      "22 rows affected.\n"
     ]
    },
    {
     "data": {
      "text/plain": [
       "[]"
      ]
     },
     "execution_count": 16,
     "metadata": {},
     "output_type": "execute_result"
    }
   ],
   "source": [
    "%%sql\n",
    "DELETE from LoanData where LoanAmount is null"
   ]
  },
  {
   "cell_type": "markdown",
   "id": "58eea16f",
   "metadata": {},
   "source": [
    "### DISTINCT Keyword"
   ]
  },
  {
   "cell_type": "code",
   "execution_count": 17,
   "id": "f667feae",
   "metadata": {
    "scrolled": true
   },
   "outputs": [
    {
     "name": "stdout",
     "output_type": "stream",
     "text": [
      " * sqlite:///Loans.db\n",
      "Done.\n"
     ]
    },
    {
     "data": {
      "text/html": [
       "<table>\n",
       "    <thead>\n",
       "        <tr>\n",
       "            <th>Property_Area</th>\n",
       "        </tr>\n",
       "    </thead>\n",
       "    <tbody>\n",
       "        <tr>\n",
       "            <td>Urban</td>\n",
       "        </tr>\n",
       "        <tr>\n",
       "            <td>Rural</td>\n",
       "        </tr>\n",
       "        <tr>\n",
       "            <td>Semiurban</td>\n",
       "        </tr>\n",
       "    </tbody>\n",
       "</table>"
      ],
      "text/plain": [
       "[('Urban',), ('Rural',), ('Semiurban',)]"
      ]
     },
     "execution_count": 17,
     "metadata": {},
     "output_type": "execute_result"
    }
   ],
   "source": [
    "%%sql \n",
    "SELECT DISTINCT(Property_Area) from CustomerData;"
   ]
  },
  {
   "cell_type": "markdown",
   "id": "391fd33a",
   "metadata": {},
   "source": [
    "### Number of rows in both the Tables"
   ]
  },
  {
   "cell_type": "code",
   "execution_count": 18,
   "id": "6813a57f",
   "metadata": {},
   "outputs": [
    {
     "name": "stdout",
     "output_type": "stream",
     "text": [
      " * sqlite:///Loans.db\n",
      "Done.\n"
     ]
    },
    {
     "data": {
      "text/html": [
       "<table>\n",
       "    <thead>\n",
       "        <tr>\n",
       "            <th>count(*)</th>\n",
       "        </tr>\n",
       "    </thead>\n",
       "    <tbody>\n",
       "        <tr>\n",
       "            <td>592</td>\n",
       "        </tr>\n",
       "    </tbody>\n",
       "</table>"
      ],
      "text/plain": [
       "[(592,)]"
      ]
     },
     "execution_count": 18,
     "metadata": {},
     "output_type": "execute_result"
    }
   ],
   "source": [
    "%%sql\n",
    "SELECT count(*) FROM LoanData"
   ]
  },
  {
   "cell_type": "code",
   "execution_count": 19,
   "id": "2c836d43",
   "metadata": {},
   "outputs": [
    {
     "name": "stdout",
     "output_type": "stream",
     "text": [
      " * sqlite:///Loans.db\n",
      "Done.\n"
     ]
    },
    {
     "data": {
      "text/html": [
       "<table>\n",
       "    <thead>\n",
       "        <tr>\n",
       "            <th>count(*)</th>\n",
       "        </tr>\n",
       "    </thead>\n",
       "    <tbody>\n",
       "        <tr>\n",
       "            <td>614</td>\n",
       "        </tr>\n",
       "    </tbody>\n",
       "</table>"
      ],
      "text/plain": [
       "[(614,)]"
      ]
     },
     "execution_count": 19,
     "metadata": {},
     "output_type": "execute_result"
    }
   ],
   "source": [
    "%%sql\n",
    "SELECT count(*) FROM CustomerData"
   ]
  },
  {
   "cell_type": "markdown",
   "id": "83989016",
   "metadata": {},
   "source": [
    "### Natural Join"
   ]
  },
  {
   "cell_type": "code",
   "execution_count": 20,
   "id": "2f733fcb",
   "metadata": {
    "scrolled": true
   },
   "outputs": [
    {
     "name": "stdout",
     "output_type": "stream",
     "text": [
      " * sqlite:///Loans.db\n",
      "Done.\n"
     ]
    },
    {
     "data": {
      "text/html": [
       "<table>\n",
       "    <thead>\n",
       "        <tr>\n",
       "            <th>Number_of_Rows</th>\n",
       "        </tr>\n",
       "    </thead>\n",
       "    <tbody>\n",
       "        <tr>\n",
       "            <td>592</td>\n",
       "        </tr>\n",
       "    </tbody>\n",
       "</table>"
      ],
      "text/plain": [
       "[(592,)]"
      ]
     },
     "execution_count": 20,
     "metadata": {},
     "output_type": "execute_result"
    }
   ],
   "source": [
    "%%sql\n",
    "SELECT count(*) as Number_of_Rows FROM LoanData natural join CustomerData "
   ]
  },
  {
   "cell_type": "markdown",
   "id": "2d3e999c",
   "metadata": {},
   "source": [
    "### Full Outer Join"
   ]
  },
  {
   "cell_type": "code",
   "execution_count": 21,
   "id": "f6a2869e",
   "metadata": {},
   "outputs": [
    {
     "name": "stdout",
     "output_type": "stream",
     "text": [
      " * sqlite:///Loans.db\n",
      "Done.\n"
     ]
    },
    {
     "data": {
      "text/html": [
       "<table>\n",
       "    <thead>\n",
       "        <tr>\n",
       "            <th>Number_of_Rows</th>\n",
       "        </tr>\n",
       "    </thead>\n",
       "    <tbody>\n",
       "        <tr>\n",
       "            <td>614</td>\n",
       "        </tr>\n",
       "    </tbody>\n",
       "</table>"
      ],
      "text/plain": [
       "[(614,)]"
      ]
     },
     "execution_count": 21,
     "metadata": {},
     "output_type": "execute_result"
    }
   ],
   "source": [
    "%%sql\n",
    "SELECT count(*) as Number_of_Rows FROM LoanData FULL OUTER join CustomerData on LoanData.Loan_ID = CustomerData.Loan_ID"
   ]
  },
  {
   "cell_type": "markdown",
   "id": "aae4f11e",
   "metadata": {},
   "source": [
    "### Inner Join"
   ]
  },
  {
   "cell_type": "code",
   "execution_count": 22,
   "id": "22a5936e",
   "metadata": {},
   "outputs": [
    {
     "name": "stdout",
     "output_type": "stream",
     "text": [
      " * sqlite:///Loans.db\n",
      "Done.\n"
     ]
    },
    {
     "data": {
      "text/html": [
       "<table>\n",
       "    <thead>\n",
       "        <tr>\n",
       "            <th>Number_of_Rows</th>\n",
       "        </tr>\n",
       "    </thead>\n",
       "    <tbody>\n",
       "        <tr>\n",
       "            <td>592</td>\n",
       "        </tr>\n",
       "    </tbody>\n",
       "</table>"
      ],
      "text/plain": [
       "[(592,)]"
      ]
     },
     "execution_count": 22,
     "metadata": {},
     "output_type": "execute_result"
    }
   ],
   "source": [
    "%%sql\n",
    "SELECT count(*) as Number_of_Rows FROM LoanData inner join CustomerData on LoanData.Loan_ID = CustomerData.Loan_ID"
   ]
  },
  {
   "cell_type": "markdown",
   "id": "eb73892b",
   "metadata": {},
   "source": [
    "### Left Outer Join"
   ]
  },
  {
   "cell_type": "code",
   "execution_count": 23,
   "id": "5ac88364",
   "metadata": {},
   "outputs": [
    {
     "name": "stdout",
     "output_type": "stream",
     "text": [
      " * sqlite:///Loans.db\n",
      "Done.\n"
     ]
    },
    {
     "data": {
      "text/html": [
       "<table>\n",
       "    <thead>\n",
       "        <tr>\n",
       "            <th>Number_of_Rows</th>\n",
       "        </tr>\n",
       "    </thead>\n",
       "    <tbody>\n",
       "        <tr>\n",
       "            <td>592</td>\n",
       "        </tr>\n",
       "    </tbody>\n",
       "</table>"
      ],
      "text/plain": [
       "[(592,)]"
      ]
     },
     "execution_count": 23,
     "metadata": {},
     "output_type": "execute_result"
    }
   ],
   "source": [
    "%%sql\n",
    "SELECT count(*) as Number_of_Rows FROM LoanData left outer join CustomerData on LoanData.Loan_ID = CustomerData.Loan_ID"
   ]
  },
  {
   "cell_type": "markdown",
   "id": "35129773",
   "metadata": {},
   "source": [
    "### Right Outer Join"
   ]
  },
  {
   "cell_type": "code",
   "execution_count": 24,
   "id": "32f1c17a",
   "metadata": {
    "scrolled": true
   },
   "outputs": [
    {
     "name": "stdout",
     "output_type": "stream",
     "text": [
      " * sqlite:///Loans.db\n",
      "Done.\n"
     ]
    },
    {
     "data": {
      "text/html": [
       "<table>\n",
       "    <thead>\n",
       "        <tr>\n",
       "            <th>Number_of_Rows</th>\n",
       "        </tr>\n",
       "    </thead>\n",
       "    <tbody>\n",
       "        <tr>\n",
       "            <td>614</td>\n",
       "        </tr>\n",
       "    </tbody>\n",
       "</table>"
      ],
      "text/plain": [
       "[(614,)]"
      ]
     },
     "execution_count": 24,
     "metadata": {},
     "output_type": "execute_result"
    }
   ],
   "source": [
    "%%sql\n",
    "SELECT count(*) as Number_of_Rows FROM LoanData right outer join CustomerData on LoanData.Loan_ID = CustomerData.Loan_ID"
   ]
  },
  {
   "cell_type": "markdown",
   "id": "7ff314ee",
   "metadata": {},
   "source": [
    "### Adding CONSTRAINTS"
   ]
  },
  {
   "cell_type": "code",
   "execution_count": 25,
   "id": "7e6b7366",
   "metadata": {},
   "outputs": [
    {
     "name": "stdout",
     "output_type": "stream",
     "text": [
      " * sqlite:///Loans.db\n",
      "Done.\n"
     ]
    },
    {
     "data": {
      "text/plain": [
       "[]"
      ]
     },
     "execution_count": 25,
     "metadata": {},
     "output_type": "execute_result"
    }
   ],
   "source": [
    "%%sql\n",
    "\n",
    "CREATE TABLE Loan (\n",
    "    Loan_ID text PRIMARY KEY not null,\n",
    "    LoanAmount real not null,\n",
    "    Loan_Amount_Term real,\n",
    "    Loan_Status text\n",
    ");\n"
   ]
  },
  {
   "cell_type": "markdown",
   "id": "1cde5e40",
   "metadata": {},
   "source": [
    "### SELECT INTO Equivalent of SQLite"
   ]
  },
  {
   "cell_type": "code",
   "execution_count": 26,
   "id": "20797905",
   "metadata": {},
   "outputs": [
    {
     "name": "stdout",
     "output_type": "stream",
     "text": [
      " * sqlite:///Loans.db\n",
      "592 rows affected.\n"
     ]
    },
    {
     "data": {
      "text/plain": [
       "[]"
      ]
     },
     "execution_count": 26,
     "metadata": {},
     "output_type": "execute_result"
    }
   ],
   "source": [
    "%%sql\n",
    "INSERT INTO Loan (Loan_ID, LoanAmount, Loan_Amount_Term, Loan_Status)\n",
    "SELECT Loan_ID, LoanAmount, Loan_Amount_Term, Loan_Status FROM LoanData;"
   ]
  },
  {
   "cell_type": "code",
   "execution_count": 27,
   "id": "6b11cce4",
   "metadata": {},
   "outputs": [
    {
     "name": "stdout",
     "output_type": "stream",
     "text": [
      " * sqlite:///Loans.db\n",
      "Done.\n"
     ]
    },
    {
     "data": {
      "text/html": [
       "<table>\n",
       "    <thead>\n",
       "        <tr>\n",
       "            <th>Loan_ID</th>\n",
       "            <th>LoanAmount</th>\n",
       "            <th>Loan_Amount_Term</th>\n",
       "            <th>Loan_Status</th>\n",
       "        </tr>\n",
       "    </thead>\n",
       "    <tbody>\n",
       "        <tr>\n",
       "            <td>LP001003</td>\n",
       "            <td>128.0</td>\n",
       "            <td>360.0</td>\n",
       "            <td>N</td>\n",
       "        </tr>\n",
       "        <tr>\n",
       "            <td>LP001005</td>\n",
       "            <td>66.0</td>\n",
       "            <td>360.0</td>\n",
       "            <td>Y</td>\n",
       "        </tr>\n",
       "        <tr>\n",
       "            <td>LP001006</td>\n",
       "            <td>120.0</td>\n",
       "            <td>360.0</td>\n",
       "            <td>Y</td>\n",
       "        </tr>\n",
       "        <tr>\n",
       "            <td>LP001008</td>\n",
       "            <td>141.0</td>\n",
       "            <td>360.0</td>\n",
       "            <td>Y</td>\n",
       "        </tr>\n",
       "        <tr>\n",
       "            <td>LP001011</td>\n",
       "            <td>267.0</td>\n",
       "            <td>360.0</td>\n",
       "            <td>Y</td>\n",
       "        </tr>\n",
       "    </tbody>\n",
       "</table>"
      ],
      "text/plain": [
       "[('LP001003', 128.0, 360.0, 'N'),\n",
       " ('LP001005', 66.0, 360.0, 'Y'),\n",
       " ('LP001006', 120.0, 360.0, 'Y'),\n",
       " ('LP001008', 141.0, 360.0, 'Y'),\n",
       " ('LP001011', 267.0, 360.0, 'Y')]"
      ]
     },
     "execution_count": 27,
     "metadata": {},
     "output_type": "execute_result"
    }
   ],
   "source": [
    "%%sql\n",
    "select * from Loan limit 5;"
   ]
  },
  {
   "cell_type": "markdown",
   "id": "ca4df18f",
   "metadata": {},
   "source": [
    "### DROP Table"
   ]
  },
  {
   "cell_type": "code",
   "execution_count": 28,
   "id": "a78663db",
   "metadata": {},
   "outputs": [
    {
     "name": "stdout",
     "output_type": "stream",
     "text": [
      " * sqlite:///Loans.db\n",
      "Done.\n"
     ]
    },
    {
     "data": {
      "text/plain": [
       "[]"
      ]
     },
     "execution_count": 28,
     "metadata": {},
     "output_type": "execute_result"
    }
   ],
   "source": [
    "%%sql\n",
    "DROP TABLE LoanData;"
   ]
  },
  {
   "cell_type": "markdown",
   "id": "be7281c2",
   "metadata": {},
   "source": [
    "### Rename Table (ALTER Table Statement)"
   ]
  },
  {
   "cell_type": "code",
   "execution_count": 29,
   "id": "9a4e10ca",
   "metadata": {},
   "outputs": [
    {
     "name": "stdout",
     "output_type": "stream",
     "text": [
      " * sqlite:///Loans.db\n",
      "Done.\n"
     ]
    },
    {
     "data": {
      "text/plain": [
       "[]"
      ]
     },
     "execution_count": 29,
     "metadata": {},
     "output_type": "execute_result"
    }
   ],
   "source": [
    "%%sql\n",
    "ALTER TABLE Loan RENAME TO LoanData;"
   ]
  },
  {
   "cell_type": "markdown",
   "id": "4e037832",
   "metadata": {},
   "source": [
    "### PRIMARY Key and NOT NULL Constraints"
   ]
  },
  {
   "cell_type": "code",
   "execution_count": 30,
   "id": "5288a41f",
   "metadata": {
    "scrolled": true
   },
   "outputs": [
    {
     "name": "stdout",
     "output_type": "stream",
     "text": [
      " * sqlite:///Loans.db\n",
      "Done.\n"
     ]
    },
    {
     "data": {
      "text/html": [
       "<table>\n",
       "    <thead>\n",
       "        <tr>\n",
       "            <th>cid</th>\n",
       "            <th>name</th>\n",
       "            <th>type</th>\n",
       "            <th>notnull</th>\n",
       "            <th>dflt_value</th>\n",
       "            <th>pk</th>\n",
       "        </tr>\n",
       "    </thead>\n",
       "    <tbody>\n",
       "        <tr>\n",
       "            <td>0</td>\n",
       "            <td>Loan_ID</td>\n",
       "            <td>TEXT</td>\n",
       "            <td>1</td>\n",
       "            <td>None</td>\n",
       "            <td>1</td>\n",
       "        </tr>\n",
       "        <tr>\n",
       "            <td>1</td>\n",
       "            <td>LoanAmount</td>\n",
       "            <td>REAL</td>\n",
       "            <td>1</td>\n",
       "            <td>None</td>\n",
       "            <td>0</td>\n",
       "        </tr>\n",
       "        <tr>\n",
       "            <td>2</td>\n",
       "            <td>Loan_Amount_Term</td>\n",
       "            <td>REAL</td>\n",
       "            <td>0</td>\n",
       "            <td>None</td>\n",
       "            <td>0</td>\n",
       "        </tr>\n",
       "        <tr>\n",
       "            <td>3</td>\n",
       "            <td>Loan_Status</td>\n",
       "            <td>TEXT</td>\n",
       "            <td>0</td>\n",
       "            <td>None</td>\n",
       "            <td>0</td>\n",
       "        </tr>\n",
       "    </tbody>\n",
       "</table>"
      ],
      "text/plain": [
       "[(0, 'Loan_ID', 'TEXT', 1, None, 1),\n",
       " (1, 'LoanAmount', 'REAL', 1, None, 0),\n",
       " (2, 'Loan_Amount_Term', 'REAL', 0, None, 0),\n",
       " (3, 'Loan_Status', 'TEXT', 0, None, 0)]"
      ]
     },
     "execution_count": 30,
     "metadata": {},
     "output_type": "execute_result"
    }
   ],
   "source": [
    "%%sql\n",
    "PRAGMA table_info(LoanData);"
   ]
  },
  {
   "cell_type": "markdown",
   "id": "41477c31",
   "metadata": {},
   "source": [
    "### GROUP BY, ORDER BY AND Natural Join"
   ]
  },
  {
   "cell_type": "code",
   "execution_count": 31,
   "id": "24dcaab2",
   "metadata": {
    "scrolled": true
   },
   "outputs": [
    {
     "name": "stdout",
     "output_type": "stream",
     "text": [
      " * sqlite:///Loans.db\n",
      "Done.\n"
     ]
    },
    {
     "data": {
      "text/html": [
       "<table>\n",
       "    <thead>\n",
       "        <tr>\n",
       "            <th>Education</th>\n",
       "            <th>Loan_Status</th>\n",
       "            <th>count(*)</th>\n",
       "        </tr>\n",
       "    </thead>\n",
       "    <tbody>\n",
       "        <tr>\n",
       "            <td>Graduate</td>\n",
       "            <td>Y</td>\n",
       "            <td>331</td>\n",
       "        </tr>\n",
       "        <tr>\n",
       "            <td>Graduate</td>\n",
       "            <td>N</td>\n",
       "            <td>134</td>\n",
       "        </tr>\n",
       "        <tr>\n",
       "            <td>Not Graduate</td>\n",
       "            <td>Y</td>\n",
       "            <td>80</td>\n",
       "        </tr>\n",
       "        <tr>\n",
       "            <td>Not Graduate</td>\n",
       "            <td>N</td>\n",
       "            <td>47</td>\n",
       "        </tr>\n",
       "    </tbody>\n",
       "</table>"
      ],
      "text/plain": [
       "[('Graduate', 'Y', 331),\n",
       " ('Graduate', 'N', 134),\n",
       " ('Not Graduate', 'Y', 80),\n",
       " ('Not Graduate', 'N', 47)]"
      ]
     },
     "execution_count": 31,
     "metadata": {},
     "output_type": "execute_result"
    }
   ],
   "source": [
    "%%sql\n",
    "SELECT Education, Loan_Status, count(*) from LoanData natural join CustomerData group by Education, Loan_Status order by count(*) desc;"
   ]
  },
  {
   "cell_type": "markdown",
   "id": "bbbeffee",
   "metadata": {},
   "source": [
    "### Wildcard LIKE \n",
    "\n",
    "#### All entries between Loan ID LP001000 to LP001009 \n"
   ]
  },
  {
   "cell_type": "code",
   "execution_count": 32,
   "id": "256b2bd5",
   "metadata": {},
   "outputs": [
    {
     "name": "stdout",
     "output_type": "stream",
     "text": [
      " * sqlite:///Loans.db\n",
      "Done.\n"
     ]
    },
    {
     "data": {
      "text/html": [
       "<table>\n",
       "    <thead>\n",
       "        <tr>\n",
       "            <th>Loan_ID</th>\n",
       "            <th>LoanAmount</th>\n",
       "            <th>Loan_Amount_Term</th>\n",
       "            <th>Loan_Status</th>\n",
       "        </tr>\n",
       "    </thead>\n",
       "    <tbody>\n",
       "        <tr>\n",
       "            <td>LP001003</td>\n",
       "            <td>128.0</td>\n",
       "            <td>360.0</td>\n",
       "            <td>N</td>\n",
       "        </tr>\n",
       "        <tr>\n",
       "            <td>LP001005</td>\n",
       "            <td>66.0</td>\n",
       "            <td>360.0</td>\n",
       "            <td>Y</td>\n",
       "        </tr>\n",
       "        <tr>\n",
       "            <td>LP001006</td>\n",
       "            <td>120.0</td>\n",
       "            <td>360.0</td>\n",
       "            <td>Y</td>\n",
       "        </tr>\n",
       "        <tr>\n",
       "            <td>LP001008</td>\n",
       "            <td>141.0</td>\n",
       "            <td>360.0</td>\n",
       "            <td>Y</td>\n",
       "        </tr>\n",
       "    </tbody>\n",
       "</table>"
      ],
      "text/plain": [
       "[('LP001003', 128.0, 360.0, 'N'),\n",
       " ('LP001005', 66.0, 360.0, 'Y'),\n",
       " ('LP001006', 120.0, 360.0, 'Y'),\n",
       " ('LP001008', 141.0, 360.0, 'Y')]"
      ]
     },
     "execution_count": 32,
     "metadata": {},
     "output_type": "execute_result"
    }
   ],
   "source": [
    "%%sql\n",
    "select * from LoanData where Loan_ID like 'LP00100_'"
   ]
  },
  {
   "cell_type": "markdown",
   "id": "ef6e0e55",
   "metadata": {},
   "source": [
    "### Using AND, OR and Aliases"
   ]
  },
  {
   "cell_type": "code",
   "execution_count": 33,
   "id": "01633537",
   "metadata": {},
   "outputs": [
    {
     "name": "stdout",
     "output_type": "stream",
     "text": [
      " * sqlite:///Loans.db\n",
      "Done.\n"
     ]
    },
    {
     "data": {
      "text/html": [
       "<table>\n",
       "    <thead>\n",
       "        <tr>\n",
       "            <th>SelfEmployedGraduate</th>\n",
       "        </tr>\n",
       "    </thead>\n",
       "    <tbody>\n",
       "        <tr>\n",
       "            <td>65</td>\n",
       "        </tr>\n",
       "    </tbody>\n",
       "</table>"
      ],
      "text/plain": [
       "[(65,)]"
      ]
     },
     "execution_count": 33,
     "metadata": {},
     "output_type": "execute_result"
    }
   ],
   "source": [
    "%%sql\n",
    "select count(*) as SelfEmployedGraduate from CustomerData where Education = 'Graduate' and Self_Employed = 'Yes' "
   ]
  },
  {
   "cell_type": "markdown",
   "id": "f5e9db51",
   "metadata": {},
   "source": [
    "### BETWEEN Statement"
   ]
  },
  {
   "cell_type": "code",
   "execution_count": 34,
   "id": "6598864c",
   "metadata": {},
   "outputs": [
    {
     "name": "stdout",
     "output_type": "stream",
     "text": [
      " * sqlite:///Loans.db\n",
      "Done.\n"
     ]
    },
    {
     "data": {
      "text/html": [
       "<table>\n",
       "    <thead>\n",
       "        <tr>\n",
       "            <th>Loans_between_2_and_3_lakh</th>\n",
       "        </tr>\n",
       "    </thead>\n",
       "    <tbody>\n",
       "        <tr>\n",
       "            <td>56</td>\n",
       "        </tr>\n",
       "    </tbody>\n",
       "</table>"
      ],
      "text/plain": [
       "[(56,)]"
      ]
     },
     "execution_count": 34,
     "metadata": {},
     "output_type": "execute_result"
    }
   ],
   "source": [
    "%%sql\n",
    "select count(*) as Loans_between_2_and_3_lakh from LoanData where LoanAmount between 200 and 300"
   ]
  },
  {
   "cell_type": "markdown",
   "id": "aa070467",
   "metadata": {},
   "source": [
    "### GROUP BY and HAVING Clause with Alias and order by clause"
   ]
  },
  {
   "cell_type": "code",
   "execution_count": 35,
   "id": "7536ac91",
   "metadata": {},
   "outputs": [
    {
     "name": "stdout",
     "output_type": "stream",
     "text": [
      " * sqlite:///Loans.db\n",
      "Done.\n"
     ]
    },
    {
     "data": {
      "text/html": [
       "<table>\n",
       "    <thead>\n",
       "        <tr>\n",
       "            <th>Gender</th>\n",
       "            <th>Number_of_Loans</th>\n",
       "        </tr>\n",
       "    </thead>\n",
       "    <tbody>\n",
       "        <tr>\n",
       "            <td>Male</td>\n",
       "            <td>470</td>\n",
       "        </tr>\n",
       "        <tr>\n",
       "            <td>Female</td>\n",
       "            <td>109</td>\n",
       "        </tr>\n",
       "        <tr>\n",
       "            <td>Not Specified</td>\n",
       "            <td>13</td>\n",
       "        </tr>\n",
       "    </tbody>\n",
       "</table>"
      ],
      "text/plain": [
       "[('Male', 470), ('Female', 109), ('Not Specified', 13)]"
      ]
     },
     "execution_count": 35,
     "metadata": {},
     "output_type": "execute_result"
    }
   ],
   "source": [
    "%%sql\n",
    "select Gender, count(*) as Number_of_Loans from LoanData Natural Join CustomerData group by Gender having LoanAmount > 50 order by Number_of_Loans desc"
   ]
  },
  {
   "cell_type": "code",
   "execution_count": null,
   "id": "d533dafa",
   "metadata": {},
   "outputs": [],
   "source": []
  }
 ],
 "metadata": {
  "kernelspec": {
   "display_name": "Python 3 (ipykernel)",
   "language": "python",
   "name": "python3"
  },
  "language_info": {
   "codemirror_mode": {
    "name": "ipython",
    "version": 3
   },
   "file_extension": ".py",
   "mimetype": "text/x-python",
   "name": "python",
   "nbconvert_exporter": "python",
   "pygments_lexer": "ipython3",
   "version": "3.10.9"
  }
 },
 "nbformat": 4,
 "nbformat_minor": 5
}
