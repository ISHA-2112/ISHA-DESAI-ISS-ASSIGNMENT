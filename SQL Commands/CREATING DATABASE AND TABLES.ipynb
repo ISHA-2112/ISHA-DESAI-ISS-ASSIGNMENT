{
 "cells": [
  {
   "cell_type": "code",
   "execution_count": 1,
   "id": "5380c4d2",
   "metadata": {},
   "outputs": [],
   "source": [
    "import pyodbc\n",
    "import sqlite3"
   ]
  },
  {
   "cell_type": "code",
   "execution_count": 2,
   "id": "2234efbb",
   "metadata": {},
   "outputs": [],
   "source": [
    "%reload_ext sql"
   ]
  },
  {
   "cell_type": "markdown",
   "id": "e4986b9c",
   "metadata": {},
   "source": [
    "### Connecting to the DataBase"
   ]
  },
  {
   "cell_type": "code",
   "execution_count": 3,
   "id": "3c787edb",
   "metadata": {},
   "outputs": [],
   "source": [
    "%sql sqlite:///Loans.db\n"
   ]
  },
  {
   "cell_type": "markdown",
   "id": "8b27faf3",
   "metadata": {},
   "source": [
    "### Updating Table using CSV File"
   ]
  },
  {
   "cell_type": "code",
   "execution_count": 4,
   "id": "9ad38759",
   "metadata": {},
   "outputs": [],
   "source": [
    "import pandas as pd\n",
    "\n",
    "df = pd.read_csv('LoanData.csv')\n",
    "conn = sqlite3.connect('Loans.db')\n",
    "df.to_sql('LoanData', conn, if_exists='replace', index=False)\n",
    "conn.close()"
   ]
  },
  {
   "cell_type": "code",
   "execution_count": 5,
   "id": "151db310",
   "metadata": {},
   "outputs": [],
   "source": [
    "import pandas as pd\n",
    "\n",
    "df = pd.read_csv('Customer.csv')\n",
    "conn = sqlite3.connect('Loans.db')\n",
    "df.to_sql('CustomerData', conn, if_exists='replace', index=False)\n",
    "conn.close()"
   ]
  },
  {
   "cell_type": "markdown",
   "id": "faecaf8f",
   "metadata": {},
   "source": [
    "### Tables Created:"
   ]
  },
  {
   "cell_type": "code",
   "execution_count": 6,
   "id": "88ab7d11",
   "metadata": {},
   "outputs": [
    {
     "name": "stdout",
     "output_type": "stream",
     "text": [
      " * sqlite:///Loans.db\n",
      "Done.\n"
     ]
    },
    {
     "data": {
      "text/html": [
       "<table>\n",
       "    <thead>\n",
       "        <tr>\n",
       "            <th>name</th>\n",
       "        </tr>\n",
       "    </thead>\n",
       "    <tbody>\n",
       "        <tr>\n",
       "            <td>LoanData</td>\n",
       "        </tr>\n",
       "        <tr>\n",
       "            <td>CustomerData</td>\n",
       "        </tr>\n",
       "    </tbody>\n",
       "</table>"
      ],
      "text/plain": [
       "[('LoanData',), ('CustomerData',)]"
      ]
     },
     "execution_count": 6,
     "metadata": {},
     "output_type": "execute_result"
    }
   ],
   "source": [
    "%%sql\n",
    "SELECT name FROM sqlite_master WHERE type='table';\n"
   ]
  },
  {
   "cell_type": "code",
   "execution_count": 7,
   "id": "53146482",
   "metadata": {},
   "outputs": [
    {
     "name": "stdout",
     "output_type": "stream",
     "text": [
      " * sqlite:///Loans.db\n",
      "Done.\n"
     ]
    },
    {
     "data": {
      "text/html": [
       "<table>\n",
       "    <thead>\n",
       "        <tr>\n",
       "            <th>Loan_ID</th>\n",
       "            <th>LoanAmount</th>\n",
       "            <th>Loan_Amount_Term</th>\n",
       "            <th>Loan_Status</th>\n",
       "        </tr>\n",
       "    </thead>\n",
       "    <tbody>\n",
       "        <tr>\n",
       "            <td>LP001002</td>\n",
       "            <td>None</td>\n",
       "            <td>360.0</td>\n",
       "            <td>Y</td>\n",
       "        </tr>\n",
       "        <tr>\n",
       "            <td>LP001003</td>\n",
       "            <td>128.0</td>\n",
       "            <td>360.0</td>\n",
       "            <td>N</td>\n",
       "        </tr>\n",
       "        <tr>\n",
       "            <td>LP001005</td>\n",
       "            <td>66.0</td>\n",
       "            <td>360.0</td>\n",
       "            <td>Y</td>\n",
       "        </tr>\n",
       "        <tr>\n",
       "            <td>LP001006</td>\n",
       "            <td>120.0</td>\n",
       "            <td>360.0</td>\n",
       "            <td>Y</td>\n",
       "        </tr>\n",
       "        <tr>\n",
       "            <td>LP001008</td>\n",
       "            <td>141.0</td>\n",
       "            <td>360.0</td>\n",
       "            <td>Y</td>\n",
       "        </tr>\n",
       "    </tbody>\n",
       "</table>"
      ],
      "text/plain": [
       "[('LP001002', None, 360.0, 'Y'),\n",
       " ('LP001003', 128.0, 360.0, 'N'),\n",
       " ('LP001005', 66.0, 360.0, 'Y'),\n",
       " ('LP001006', 120.0, 360.0, 'Y'),\n",
       " ('LP001008', 141.0, 360.0, 'Y')]"
      ]
     },
     "execution_count": 7,
     "metadata": {},
     "output_type": "execute_result"
    }
   ],
   "source": [
    "%%sql\n",
    "SELECT * FROM LoanData limit 5;\n"
   ]
  },
  {
   "cell_type": "code",
   "execution_count": 8,
   "id": "c66b82ee",
   "metadata": {},
   "outputs": [
    {
     "name": "stdout",
     "output_type": "stream",
     "text": [
      " * sqlite:///Loans.db\n",
      "Done.\n"
     ]
    },
    {
     "data": {
      "text/html": [
       "<table>\n",
       "    <thead>\n",
       "        <tr>\n",
       "            <th>Loan_ID</th>\n",
       "            <th>Gender</th>\n",
       "            <th>Married</th>\n",
       "            <th>Dependents</th>\n",
       "            <th>Education</th>\n",
       "            <th>Self_Employed</th>\n",
       "            <th>ApplicantIncome</th>\n",
       "            <th>Property_Area</th>\n",
       "            <th>Credit_History</th>\n",
       "        </tr>\n",
       "    </thead>\n",
       "    <tbody>\n",
       "        <tr>\n",
       "            <td>LP001002</td>\n",
       "            <td>Male</td>\n",
       "            <td>No</td>\n",
       "            <td>0</td>\n",
       "            <td>Graduate</td>\n",
       "            <td>No</td>\n",
       "            <td>5849</td>\n",
       "            <td>Urban</td>\n",
       "            <td>1.0</td>\n",
       "        </tr>\n",
       "        <tr>\n",
       "            <td>LP001003</td>\n",
       "            <td>Male</td>\n",
       "            <td>Yes</td>\n",
       "            <td>1</td>\n",
       "            <td>Graduate</td>\n",
       "            <td>No</td>\n",
       "            <td>4583</td>\n",
       "            <td>Rural</td>\n",
       "            <td>1.0</td>\n",
       "        </tr>\n",
       "        <tr>\n",
       "            <td>LP001005</td>\n",
       "            <td>Male</td>\n",
       "            <td>Yes</td>\n",
       "            <td>0</td>\n",
       "            <td>Graduate</td>\n",
       "            <td>Yes</td>\n",
       "            <td>3000</td>\n",
       "            <td>Urban</td>\n",
       "            <td>1.0</td>\n",
       "        </tr>\n",
       "        <tr>\n",
       "            <td>LP001006</td>\n",
       "            <td>Male</td>\n",
       "            <td>Yes</td>\n",
       "            <td>0</td>\n",
       "            <td>Not Graduate</td>\n",
       "            <td>No</td>\n",
       "            <td>2583</td>\n",
       "            <td>Urban</td>\n",
       "            <td>1.0</td>\n",
       "        </tr>\n",
       "        <tr>\n",
       "            <td>LP001008</td>\n",
       "            <td>Male</td>\n",
       "            <td>No</td>\n",
       "            <td>0</td>\n",
       "            <td>Graduate</td>\n",
       "            <td>No</td>\n",
       "            <td>6000</td>\n",
       "            <td>Urban</td>\n",
       "            <td>1.0</td>\n",
       "        </tr>\n",
       "    </tbody>\n",
       "</table>"
      ],
      "text/plain": [
       "[('LP001002', 'Male', 'No', '0', 'Graduate', 'No', 5849, 'Urban', 1.0),\n",
       " ('LP001003', 'Male', 'Yes', '1', 'Graduate', 'No', 4583, 'Rural', 1.0),\n",
       " ('LP001005', 'Male', 'Yes', '0', 'Graduate', 'Yes', 3000, 'Urban', 1.0),\n",
       " ('LP001006', 'Male', 'Yes', '0', 'Not Graduate', 'No', 2583, 'Urban', 1.0),\n",
       " ('LP001008', 'Male', 'No', '0', 'Graduate', 'No', 6000, 'Urban', 1.0)]"
      ]
     },
     "execution_count": 8,
     "metadata": {},
     "output_type": "execute_result"
    }
   ],
   "source": [
    "%%sql\n",
    "SELECT * FROM CustomerData limit 5;\n"
   ]
  }
 ],
 "metadata": {
  "kernelspec": {
   "display_name": "Python 3 (ipykernel)",
   "language": "python",
   "name": "python3"
  },
  "language_info": {
   "codemirror_mode": {
    "name": "ipython",
    "version": 3
   },
   "file_extension": ".py",
   "mimetype": "text/x-python",
   "name": "python",
   "nbconvert_exporter": "python",
   "pygments_lexer": "ipython3",
   "version": "3.10.9"
  }
 },
 "nbformat": 4,
 "nbformat_minor": 5
}
